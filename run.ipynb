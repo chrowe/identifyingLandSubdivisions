{
 "cells": [
  {
   "cell_type": "code",
   "execution_count": null,
   "id": "dfae776d-1bfe-4b19-b1ec-cadeac6a7c3b",
   "metadata": {},
   "outputs": [],
   "source": [
    "%load_ext autoreload"
   ]
  },
  {
   "cell_type": "code",
   "execution_count": null,
   "id": "1d6537ee-911c-4d44-983a-f4e39afa69b7",
   "metadata": {},
   "outputs": [],
   "source": [
    "import psutil\n",
    "\n",
    "mem = psutil.virtual_memory()\n",
    "available_memory = mem.available / (1024 * 1024 * 1024)  # Convert to MB\n",
    "\n",
    "print(f\"Available memory: {available_memory:.2f} GB\")\n",
    "\n",
    "pct_to_use = 0.8\n"
   ]
  },
  {
   "cell_type": "markdown",
   "id": "0ce43995",
   "metadata": {},
   "source": [
    "# Define cities"
   ]
  },
  {
   "cell_type": "code",
   "execution_count": null,
   "id": "51118b1f-6f6c-4c18-8f01-908a958ee201",
   "metadata": {},
   "outputs": [],
   "source": [
    "# List of cities to process\n",
    "cities = [\"Belo Horizonte\", \"Campinas\", \"Bogota\", \"Nairobi\", \"Bamako\", \n",
    "        \"Lagos\", \"Accra\", \"Abidjan\", \"Mogadishu\", \"Cape Town\", \n",
    "        \"Maputo\", \"Luanda\"]\n",
    "\n",
    "test_cities = [\"Belo Horizonte\"]\n",
    "cities = test_cities\n",
    "\n",
    "\n",
    "number_of_cities = len(cities)\n",
    "\n",
    "number_of_cities"
   ]
  },
  {
   "cell_type": "markdown",
   "id": "e88b84c6",
   "metadata": {},
   "source": [
    "# Dask on Coiled notebook"
   ]
  },
  {
   "cell_type": "code",
   "execution_count": null,
   "id": "c5f720ce-ecf5-4780-bc16-438703c6322f",
   "metadata": {},
   "outputs": [],
   "source": [
    "from dask.distributed import Client, LocalCluster, get_client\n",
    "\n",
    "\n",
    "# Dask Configuration\n",
    "N_WORKERS = 2\n",
    "THREADS_PER_WORKER = 1\n",
    "MEMORY_LIMIT = \"2GB\"\n",
    "\n",
    "cluster = LocalCluster(n_workers=N_WORKERS, threads_per_worker=THREADS_PER_WORKER, memory_limit=MEMORY_LIMIT)\n",
    "client = Client(cluster)\n",
    "print(f\"Started a new Dask client. Dashboard is available at {client.dashboard_link}\")\n"
   ]
  },
  {
   "cell_type": "markdown",
   "id": "fc4f2b1a",
   "metadata": {},
   "source": [
    "# Run code"
   ]
  },
  {
   "cell_type": "code",
   "execution_count": null,
   "id": "9e7e2dd9-5f71-41ac-9731-a6f8bb589356",
   "metadata": {
    "scrolled": true
   },
   "outputs": [],
   "source": [
    "import time\n",
    "start_time = time.time()  # Start the timer\n",
    "\n",
    "%autoreload\n",
    "from ee_data_fetch import main\n",
    "main(cities)\n",
    "\n",
    "end_time = time.time()  # End the timer\n",
    "elapsed_time = end_time - start_time\n",
    "\n",
    "print(f\"Tasks completed in {elapsed_time:.2f} seconds.\")"
   ]
  },
  {
   "cell_type": "code",
   "execution_count": null,
   "id": "401bd06b-00eb-453a-acd0-d98dd499d5ad",
   "metadata": {},
   "outputs": [],
   "source": [
    "import time\n",
    "start_time = time.time()  # Start the timer\n",
    "\n",
    "#%autoreload\n",
    "from gather_data_cities import run_all\n",
    "run_all(cities)\n",
    "\n",
    "end_time = time.time()  # End the timer\n",
    "elapsed_time = end_time - start_time\n",
    "\n",
    "print(f\"Tasks completed in {elapsed_time:.2f} seconds.\")"
   ]
  },
  {
   "cell_type": "markdown",
   "id": "666b785c",
   "metadata": {},
   "source": [
    "# Run log"
   ]
  },
  {
   "cell_type": "markdown",
   "id": "e1528e04",
   "metadata": {},
   "source": [
    "## Run 1\n",
    "cities = 12\n",
    "seconds = 505.27\n",
    "instance_type = 'm6i.xlarge'\n",
    "\n",
    "sec/city = seconds / cities\n",
    "\n"
   ]
  }
 ],
 "metadata": {
  "kernelspec": {
   "display_name": "subdivisions",
   "language": "python",
   "name": "python3"
  },
  "language_info": {
   "codemirror_mode": {
    "name": "ipython",
    "version": 3
   },
   "file_extension": ".py",
   "mimetype": "text/x-python",
   "name": "python",
   "nbconvert_exporter": "python",
   "pygments_lexer": "ipython3",
   "version": "3.12.7"
  }
 },
 "nbformat": 4,
 "nbformat_minor": 5
}
