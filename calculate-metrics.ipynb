{
 "cells": [
  {
   "cell_type": "code",
   "execution_count": 1,
   "metadata": {},
   "outputs": [],
   "source": [
    "# Imports\n",
    "from shapely.ops import nearest_points\n",
    "import geopandas as gpd\n",
    "import pyproj\n",
    "from shapely.geometry import Polygon, LineString, Point, MultiPolygon, MultiLineString\n",
    "from shapely.ops import transform, polygonize, unary_union\n",
    "from scipy.optimize import minimize\n",
    "import matplotlib.pyplot as plt\n",
    "from pyproj import Geod\n",
    "import math\n",
    "import numpy as np\n",
    "import json\n",
    "import pandas as pd\n",
    "import osmnx as ox\n",
    "import networkx as nx"
   ]
  },
  {
   "cell_type": "code",
   "execution_count": 2,
   "metadata": {},
   "outputs": [],
   "source": [
    "# DEFINE USEFUL FUNCTIONS\n",
    "\n",
    "def get_utm_zone(lon):\n",
    "    print(lon)\n",
    "    return int((lon + 180) // 6) + 1\n",
    "\n",
    "def get_utm_proj(lon, lat):\n",
    "    print(lon)\n",
    "    utm_zone = get_utm_zone(lon)\n",
    "    is_northern = lat >= 0  # Determine if the zone is in the northern hemisphere\n",
    "    return f\"+proj=utm +zone={utm_zone} +{'north' if is_northern else 'south'} +ellps=WGS84 +datum=WGS84 +units=m +no_defs\"\n",
    "\n",
    "# Simplified function to convert a distance in degrees to meters\n",
    "def degrees_to_meters(distance_in_degrees, utm_proj_rectangle):\n",
    "    \n",
    "    # Create transformers for a small unit distance in degrees (1 degree) to meters\n",
    "    transformer = pyproj.Transformer.from_crs(\"EPSG:4326\", utm_proj_rectangle, always_xy=True)\n",
    "    \n",
    "    # Convert 1 degree distance to meters (latitude = 0 because we assume small distance near the UTM zone)\n",
    "    lon1, lat1 = 0, 0\n",
    "    lon2, lat2 = 1, 0\n",
    "    \n",
    "    x1, y1 = transformer.transform(lon1, lat1)\n",
    "    x2, y2 = transformer.transform(lon2, lat2)\n",
    "    \n",
    "    # Calculate the distance in meters for 1 degree of longitude\n",
    "    meters_per_degree = ((x2 - x1)**2 + (y2 - y1)**2)**0.5\n",
    "    \n",
    "    # Convert the input distance in degrees to meters\n",
    "    distance_in_meters = distance_in_degrees * meters_per_degree\n",
    "    \n",
    "    return distance_in_meters\n",
    "\n",
    "def calculate_area_geodesic(rectangle):\n",
    "    # Create a Geod object for geodesic calculations\n",
    "    geod = Geod(ellps=\"WGS84\")\n",
    "\n",
    "    # Calculate the area using the geod object. The area is returned in square meters.\n",
    "    area, _ = geod.geometry_area_perimeter(rectangle.geometry[0])\n",
    "\n",
    "    return abs(area)"
   ]
  },
  {
   "cell_type": "code",
   "execution_count": 3,
   "metadata": {},
   "outputs": [
    {
     "name": "stdout",
     "output_type": "stream",
     "text": [
      "43.08535305010083\n",
      "43.08535305010083\n"
     ]
    }
   ],
   "source": [
    "# Read needed files: rectangle, buildings, streets\n",
    "\n",
    "tile_id = 1\n",
    "rectangles = gpd.read_file('./data/rectangles.geojson')\n",
    "rectangle = rectangles[rectangles.n==tile_id]\n",
    "rectangle_centroid = rectangle.geometry[0].centroid\n",
    "utm_proj_rectangle = get_utm_proj(rectangle_centroid.x,rectangle_centroid.y)\n",
    "rectangle_area = calculate_area_geodesic(rectangle)\n",
    "project = pyproj.Transformer.from_crs(pyproj.CRS('EPSG:4326'), utm_proj_rectangle, always_xy=True).transform\n",
    "rectangle_projected = transform(project, rectangle.geometry[0])\n",
    "\n",
    "OSM_buildings = gpd.read_file(f\"./output_data/OSM_buildings_{tile_id}.gpkg\")\n",
    "OSM_roads = gpd.read_file(f\"./output_data/OSM_roads_{tile_id}.gpkg\")\n",
    "OSM_intersections = gpd.read_file(f\"./output_data/OSM_intersections_{tile_id}.gpkg\").to_crs(utm_proj_rectangle)\n",
    "\n",
    "Overture_data = gpd.read_file(f\"./output_data/Overture_building_{tile_id}.geojson\").to_crs(utm_proj_rectangle)#.clip(rectangle['geometry'])\n",
    "Overture_data['confidence'] = Overture_data.sources.apply(lambda x: json.loads(x)[0]['confidence'])\n",
    "Overture_data['dataset'] = Overture_data.sources.apply(lambda x: json.loads(x)[0]['dataset'])\n",
    "\n",
    "\n",
    "\n",
    "buildings_OSM = OSM_buildings[(OSM_buildings.building=='yes')].to_crs(utm_proj_rectangle)\n",
    "Overture_data = Overture_data.set_geometry('geometry')[Overture_data.dataset!='OpenStreetMap']\n",
    "buildings_OSM = buildings_OSM.set_geometry('geometry')\n",
    "buildings = gpd.GeoDataFrame(pd.concat([buildings_OSM, Overture_data], axis=0, ignore_index=True, join='outer')).drop_duplicates('geometry').to_crs(utm_proj_rectangle)\n",
    "\n",
    "roads = OSM_roads.to_crs(utm_proj_rectangle)\n",
    "road_union = roads.to_crs(utm_proj_rectangle).unary_union # Create a unary union of the road geometries to simplify distance calculation\n",
    "roads_rectangle = roads.clip(rectangle_projected)"
   ]
  },
  {
   "cell_type": "markdown",
   "metadata": {},
   "source": []
  },
  {
   "cell_type": "code",
   "execution_count": 4,
   "metadata": {},
   "outputs": [],
   "source": [
    "# Function to calculate the shortest distance to roads\n",
    "def calculate_minimum_distance_to_roads(building, road_union,utm_proj_rectangle):\n",
    "\n",
    "    #nearest_geom = nearest_points(crs_transform(building), crs_transform(road_union))[1] #distance to closest road, given the input order\n",
    "    nearest_geom = nearest_points(building, road_union)[1] #distance to closest road, given the input order\n",
    "    return building.distance(nearest_geom)#degrees_to_meters(building.distance(nearest_geom), utm_proj_rectangle) \n",
    "\n",
    "# Apply the distance calculation to each building\n",
    "buildings.loc[:,'distance_to_road'] = buildings['geometry'].apply(lambda x: x.centroid).apply(calculate_minimum_distance_to_roads, road_union=road_union, utm_proj_rectangle=utm_proj_rectangle)\n"
   ]
  },
  {
   "cell_type": "code",
   "execution_count": 5,
   "metadata": {},
   "outputs": [],
   "source": [
    "# Function to calculate the angle between two vectors\n",
    "def calculate_angle(vector1, vector2):\n",
    "    angle = np.arctan2(vector2[1], vector2[0]) - np.arctan2(vector1[1], vector1[0])\n",
    "    angle = np.degrees(angle)\n",
    "    if angle < 0:\n",
    "        angle += 360\n",
    "    return angle\n",
    "\n",
    "def calculate_sequential_angles(intersections, roads):\n",
    "    records = []  # List to store angle records\n",
    "    \n",
    "    # Iterate through each intersection\n",
    "    for _, intersection in intersections.iterrows():\n",
    "        intersection_id = intersection['osmid']\n",
    "        intersection_point = intersection.geometry\n",
    "        \n",
    "        # Get all roads connected to the intersection\n",
    "        connected_roads = roads[(roads['u'] == intersection_id) | (roads['v'] == intersection_id)]\n",
    "        vectors = []\n",
    "        \n",
    "        for _, road in connected_roads.iterrows():\n",
    "            coords = list(road.geometry.coords)\n",
    "            \n",
    "            # Determine the vector for the road segment away from the intersection\n",
    "            if road['u'] == intersection_id:\n",
    "                vector = (coords[1][0] - coords[0][0], coords[1][1] - coords[0][1])\n",
    "            else:\n",
    "                vector = (coords[-2][0] - coords[-1][0], coords[-2][1] - coords[-1][1])\n",
    "            \n",
    "            vectors.append((vector, road['u'], road['v']))\n",
    "        \n",
    "        # Sort vectors based on the angle relative to a fixed axis (e.g., x-axis)\n",
    "        vectors.sort(key=lambda v: np.arctan2(v[0][1], v[0][0]))\n",
    "\n",
    "        # Calculate the sequential angles between each pair of vectors\n",
    "        for i in range(len(vectors)):\n",
    "            vector1 = vectors[i][0]\n",
    "            vector2 = vectors[(i + 1) % len(vectors)][0]  # Next vector, looping back to the start\n",
    "            angle = calculate_angle(vector1, vector2)\n",
    "            \n",
    "            record = {\n",
    "                'Intersection ID': intersection_id,\n",
    "                'Segment 1': (vectors[i][1], vectors[i][2]),\n",
    "                'Segment 2': (vectors[(i + 1) % len(vectors)][1], vectors[(i + 1) % len(vectors)][2]),\n",
    "                'Angle': angle\n",
    "            }\n",
    "            records.append(record)\n",
    "    \n",
    "    # Create a DataFrame from the records\n",
    "    df_angles = pd.DataFrame(records)\n",
    "    \n",
    "    return df_angles"
   ]
  },
  {
   "cell_type": "code",
   "execution_count": 6,
   "metadata": {},
   "outputs": [],
   "source": [
    "\n",
    "# Block polygons\n",
    "\n",
    "def get_blocks(road_union, roads):\n",
    "    # Use polygonize to create polygons from the merged lines\n",
    "    blocks = list(polygonize(road_union))\n",
    "    blocks_gdf = gpd.GeoDataFrame(geometry=blocks, crs=roads.crs)\n",
    "    # Filter out very small polygons if necessary\n",
    "    blocks_gdf = blocks_gdf[blocks_gdf.area > 9]\n",
    "    blocks_gdf['area'] = blocks_gdf.area\n",
    "    #blocks_gdf.to_file(\"blocks_tile1.gpkg\", driver=\"GPKG\")\n",
    "    return blocks_gdf.sort_values('area')\n",
    "\n",
    "blocks = get_blocks(road_union, roads)"
   ]
  },
  {
   "cell_type": "code",
   "execution_count": 7,
   "metadata": {},
   "outputs": [],
   "source": [
    "# Building orientation\n",
    "\n",
    "def longest_segment(polygon):\n",
    "    # Ensure the input is a valid Polygon\n",
    "    if not isinstance(polygon, Polygon):\n",
    "        raise TypeError(\"The input must be a shapely Polygon object.\")\n",
    "    \n",
    "    # Get the exterior coordinates of the polygon\n",
    "    exterior_coords = polygon.exterior.coords\n",
    "    \n",
    "    # Initialize variables to track the longest segment\n",
    "    max_length = 0\n",
    "    longest_segment = None\n",
    "    \n",
    "    # Iterate through the exterior coordinates to find the longest segment\n",
    "    for i in range(len(exterior_coords) - 1):\n",
    "        # Create a line segment from consecutive coordinates\n",
    "        segment = LineString([exterior_coords[i], exterior_coords[i+1]])\n",
    "        \n",
    "        # Calculate the length of the segment\n",
    "        segment_length = segment.length\n",
    "        \n",
    "        # Update the longest segment if this one is longer\n",
    "        if segment_length > max_length:\n",
    "            max_length = segment_length\n",
    "            longest_segment = segment\n",
    "    \n",
    "    return longest_segment\n",
    "\n",
    "def calculate_azimuth(segment):\n",
    "    # Extract start and end points of the segment\n",
    "    start_point = segment.coords[0]\n",
    "    end_point = segment.coords[1]\n",
    "    \n",
    "    # Calculate the difference in coordinates\n",
    "    delta_x = end_point[0] - start_point[0]\n",
    "    delta_y = end_point[1] - start_point[1]\n",
    "    \n",
    "    # Calculate the azimuth in radians\n",
    "    azimuth_rad = math.atan2(delta_x, delta_y)\n",
    "    \n",
    "    # Convert the azimuth to degrees\n",
    "    azimuth_deg = math.degrees(azimuth_rad)\n",
    "    \n",
    "    # Normalize the azimuth to be within 0 to 360 degrees\n",
    "    #if azimuth_deg < 0:\n",
    "    #    azimuth_deg += 360\n",
    "    \n",
    "    return np.abs(azimuth_deg)\n"
   ]
  },
  {
   "cell_type": "code",
   "execution_count": 8,
   "metadata": {},
   "outputs": [],
   "source": [
    "# Get largest circle inscribed in block\n",
    "\n",
    "def get_largest_inscribed_circle(block):\n",
    "    polygon = block\n",
    "    # Initial guess: the centroid of the polygon\n",
    "    centroid = polygon.geometry.centroid\n",
    "    initial_guess = [centroid.x, centroid.y]\n",
    "\n",
    "    # Calculate negative radius to maximize\n",
    "    def negative_radius(point_coords):\n",
    "        point = Point(point_coords)\n",
    "\n",
    "        if polygon.geometry.contains(point):\n",
    "            return -polygon.geometry.boundary.distance(point)\n",
    "        else:\n",
    "            return np.inf  # Outside the polygon, so invalid\n",
    "\n",
    "    # Optimization to find the largest inscribed circle\n",
    "    result = minimize(negative_radius, initial_guess, method='Nelder-Mead')\n",
    "\n",
    "    # Get the maximum inscribed circle\n",
    "    optimal_point = Point(result.x)\n",
    "    max_radius = -result.fun  # Negative of the minimized value\n",
    "\n",
    "    #print(f\"Largest circle center: {optimal_point}\")\n",
    "    #print(f\"Maximum radius: {max_radius}\")\n",
    "    return optimal_point, max_radius"
   ]
  },
  {
   "cell_type": "code",
   "execution_count": 9,
   "metadata": {},
   "outputs": [],
   "source": [
    "# Inflection points\n",
    "def get_inflection_points(roads,threshold):\n",
    "    inflection_gdf = gpd.GeoDataFrame({'geometry':[],'angle':[]})\n",
    "    inflection_list = []\n",
    "    for row in roads.iterfeatures():\n",
    "        line = row['geometry']\n",
    "        inflection_points = []\n",
    "        angles = []\n",
    "        coords = list(line['coordinates'])\n",
    "        for i in range(1, len(coords) - 1):\n",
    "            p1 = np.array(coords[i - 1])\n",
    "            p2 = np.array(coords[i])\n",
    "            p3 = np.array(coords[i + 1])\n",
    "\n",
    "            # Calculate angle between the segments\n",
    "            v1 = p2 - p1\n",
    "            v2 = p3 - p2\n",
    "\n",
    "            angle1 = np.arctan2(v1[1], v1[0])\n",
    "            angle2 = np.arctan2(v2[1], v2[0])\n",
    "\n",
    "            # Calculate the difference and convert to degrees\n",
    "            angle_diff = np.degrees(np.abs(angle2 - angle1))\n",
    "            angle_diff = np.mod(angle_diff, 360)\n",
    "\n",
    "            # Normalize the angle difference to [0, 180] degrees\n",
    "            if angle_diff > 180:\n",
    "                angle_diff = 360 - angle_diff\n",
    "\n",
    "            # Store significant changes (e.g., greater than 10 degrees)\n",
    "            if angle_diff > threshold:  \n",
    "                inflection_points.append(Point(p2))\n",
    "                angles.append(angle_diff)\n",
    "\n",
    "        inflection_dict = gpd.GeoDataFrame({\n",
    "            'geometry': inflection_points,\n",
    "            'angle': angles\n",
    "        })\n",
    "        if len(inflection_points)>0:\n",
    "            inflection_gdf = pd.concat([inflection_gdf,inflection_dict])\n",
    "    return inflection_gdf\n"
   ]
  },
  {
   "cell_type": "code",
   "execution_count": 10,
   "metadata": {},
   "outputs": [
    {
     "data": {
      "text/plain": [
       "17.68867924528302"
      ]
     },
     "execution_count": 10,
     "metadata": {},
     "output_type": "execute_result"
    }
   ],
   "source": [
    "#1 Share of building footprints that are less than 10-meters away from the nearest road\n",
    "\n",
    "def metric_1_distance_less_than_10m(buildings):\n",
    "    return 100.*((sum(buildings['distance_to_road']<=10))/len(buildings))\n",
    "\n",
    "metric_1_distance_less_than_10m(buildings)"
   ]
  },
  {
   "cell_type": "code",
   "execution_count": 11,
   "metadata": {},
   "outputs": [
    {
     "data": {
      "text/plain": [
       "20.342373213761217"
      ]
     },
     "execution_count": 11,
     "metadata": {},
     "output_type": "execute_result"
    }
   ],
   "source": [
    "#2 Average distance of building footprint centroids to roads\n",
    "def metric_2_average_distance_to_roads(buildings):\n",
    "    return buildings['distance_to_road'].mean()\n",
    "\n",
    "metric_2_average_distance_to_roads(buildings)\n"
   ]
  },
  {
   "cell_type": "code",
   "execution_count": 12,
   "metadata": {},
   "outputs": [
    {
     "data": {
      "text/plain": [
       "23.155190110468748"
      ]
     },
     "execution_count": 12,
     "metadata": {},
     "output_type": "execute_result"
    }
   ],
   "source": [
    "#3 Density of roads\n",
    "def metric_3_road_density(roads_rectangle,rectangle_area):\n",
    "    #meter_length = degrees_to_meters(road_union.length,utm_zone_rectangle=utm_zone_rectangle)\n",
    "    km_length = roads_rectangle.length.sum()/1000.\n",
    "    rectangle_area_km2 = rectangle_area/1000000.\n",
    "    return km_length/rectangle_area_km2\n",
    "\n",
    "metric_3_road_density(roads_rectangle,rectangle_area)"
   ]
  },
  {
   "cell_type": "code",
   "execution_count": 13,
   "metadata": {},
   "outputs": [
    {
     "data": {
      "text/plain": [
       "0.29411764705882354"
      ]
     },
     "execution_count": 13,
     "metadata": {},
     "output_type": "execute_result"
    }
   ],
   "source": [
    "#4 Share of 3-way and 4-way intersections \n",
    "def metric_4_share_3_and_4way_intersections(intersections):\n",
    "    n_intersections_3_and_4 = 1.*len(intersections[(intersections.street_count == 4)|(intersections.street_count == 3)])\n",
    "    n_4_way = 1.*len(intersections[(intersections.street_count == 4)])\n",
    "    return (n_4_way / n_intersections_3_and_4)\n",
    "\n",
    "metric_4_share_3_and_4way_intersections(OSM_intersections)"
   ]
  },
  {
   "cell_type": "code",
   "execution_count": 14,
   "metadata": {},
   "outputs": [
    {
     "data": {
      "text/plain": [
       "5.0"
      ]
     },
     "execution_count": 14,
     "metadata": {},
     "output_type": "execute_result"
    }
   ],
   "source": [
    "#5 Number of 4-way intersections\n",
    "def metric_5_4way_intersections(intersections):\n",
    "    return 1.*len(intersections[(intersections.street_count == 4)])\n",
    "metric_5_4way_intersections(OSM_intersections)"
   ]
  },
  {
   "cell_type": "code",
   "execution_count": 15,
   "metadata": {},
   "outputs": [
    {
     "name": "stdout",
     "output_type": "stream",
     "text": [
      "0.323289127696127\n"
     ]
    },
    {
     "data": {
      "text/plain": [
       "count    424.000000\n",
       "mean      88.431012\n",
       "std       58.192043\n",
       "min        0.008704\n",
       "25%       75.217636\n",
       "50%       89.847769\n",
       "75%       96.411192\n",
       "max      179.956446\n",
       "Name: azimuth, dtype: float64"
      ]
     },
     "execution_count": 15,
     "metadata": {},
     "output_type": "execute_result"
    }
   ],
   "source": [
    "#6 Average building footprint orientation of the tile\n",
    "\n",
    "buildings.loc[:,'azimuth'] = buildings['geometry'].apply(lambda x: calculate_azimuth(longest_segment(x)))\n",
    "\n",
    "def metric_6_deviation_of_building_azimuth(buildings):\n",
    "    return buildings.azimuth.std()/180.\n",
    "\n",
    "print(metric_6_deviation_of_building_azimuth(buildings))\n",
    "buildings.azimuth.describe()"
   ]
  },
  {
   "cell_type": "code",
   "execution_count": 16,
   "metadata": {},
   "outputs": [],
   "source": [
    "#7 Average block width\n",
    "def metric_7_average_block_width(blocks):\n",
    "    max_area = max(blocks['area'])  \n",
    "    min_area = min(blocks['area'])\n",
    "    for block_id, block in blocks.iterrows():\n",
    "        optimal_point, max_radius = get_largest_inscribed_circle(block)\n",
    "        blocks.loc[block_id,'weighted_width'] = (((max_radius*block['area'])-min_area)/max_area)\n",
    "    return blocks, blocks['weighted_width'].mean()\n",
    "    \n",
    "blocks = get_blocks(road_union,roads)\n",
    "blocks, m_7 = metric_7_average_block_width(blocks)\n",
    "blocks.to_file(\"blocks_tile1_with_weighted_width.gpkg\", driver=\"GPKG\")\n"
   ]
  },
  {
   "cell_type": "code",
   "execution_count": 17,
   "metadata": {},
   "outputs": [
    {
     "name": "stdout",
     "output_type": "stream",
     "text": [
      "0.875\n"
     ]
    },
    {
     "data": {
      "text/plain": [
       "\"     x, y = internal_buffer.exterior.xy\\n        ax.fill(x, y, alpha=0.5, fc='lightcoral', ec='red', label='Internal Buffer')\\n        x,y = optimal_point.buffer(max_radius).exterior.xy\\n        ax.fill(x, y, alpha=0.5, fc='lightcoral', ec='red', label='Optimal circle')\\n        ax.plot(optimal_point.x, optimal_point.y, 'ro')\\n        plt.gca().set_aspect('equal', adjustable='box')\\n        plt.savefig(f'{block_id}_inscribed_circle.png')\\n        plt.show() \""
      ]
     },
     "execution_count": 17,
     "metadata": {},
     "output_type": "execute_result"
    }
   ],
   "source": [
    "#8 Two row blocks\n",
    "# Compare the area of the buffer inside the block with a width equal to the radius of the largest circle fully contained within \n",
    "# the block minus a miniscule amount and the area of the union of the buffer and all the building footprints within the block. \n",
    "# If the two are equal, then the block is a two-row subdivision. If the latter is greater, it is not. \n",
    "# It may be a hybrid subdivision \n",
    "def metric_8_two_row_blocks(blocks, buildings,row_epsilon):\n",
    "    for block_id, block in blocks.iterrows():\n",
    "        #print(\"fid\")\n",
    "        #print(block['fid'])\n",
    "        optimal_point, max_radius = get_largest_inscribed_circle(block)\n",
    "        # Ojo: buffer\n",
    "        internal_buffer = block.geometry.difference(block.geometry.buffer(-max_radius+row_epsilon))\n",
    "        #print(type(internal_buffer))\n",
    "        buildings_for_union = unary_union(buildings.clip(blocks.iloc[0].geometry).geometry)\n",
    "        result_union = internal_buffer.union(buildings_for_union)\n",
    "        union_area = result_union.area\n",
    "        internal_buffer_area = internal_buffer.area\n",
    "        \"\"\" \n",
    "        print(\"BLOCK ID\")\n",
    "        print(block_id)\n",
    "        print(\"Block area\")\n",
    "        print(block.area)\n",
    "        print(\"Building area\")\n",
    "        print(buildings_for_union.area)\n",
    "        print(\"Union area\")\n",
    "        print(union_area)\n",
    "        print(\"Internal buffer area\")\n",
    "        print(internal_buffer_area) \"\"\"\n",
    "        if union_area > internal_buffer_area:\n",
    "            blocks.loc[block_id,'buildings_outside_buffer'] = True\n",
    "        elif union_area <= internal_buffer_area:\n",
    "            blocks.loc[block_id,'buildings_outside_buffer'] = False\n",
    "    return blocks['buildings_outside_buffer'].mean()\n",
    "print(metric_8_two_row_blocks(blocks,buildings,row_epsilon=0.1))\n",
    "\n",
    "\n",
    "\"\"\"     x, y = internal_buffer.exterior.xy\n",
    "        ax.fill(x, y, alpha=0.5, fc='lightcoral', ec='red', label='Internal Buffer')\n",
    "        x,y = optimal_point.buffer(max_radius).exterior.xy\n",
    "        ax.fill(x, y, alpha=0.5, fc='lightcoral', ec='red', label='Optimal circle')\n",
    "        ax.plot(optimal_point.x, optimal_point.y, 'ro')\n",
    "        plt.gca().set_aspect('equal', adjustable='box')\n",
    "        plt.savefig(f'{block_id}_inscribed_circle.png')\n",
    "        plt.show() \"\"\""
   ]
  },
  {
   "cell_type": "code",
   "execution_count": 18,
   "metadata": {},
   "outputs": [
    {
     "name": "stderr",
     "output_type": "stream",
     "text": [
      "/Users/sarangof/miniconda3/envs/subdivisions/lib/python3.12/site-packages/geopandas/array.py:1470: UserWarning: CRS not set for some of the concatenation inputs. Setting output's CRS as unknown (the single non-null crs provided).\n",
      "  return GeometryArray(data, crs=_get_common_crs(to_concat))\n"
     ]
    },
    {
     "data": {
      "text/plain": [
       "0.6157210331764016"
      ]
     },
     "execution_count": 18,
     "metadata": {},
     "output_type": "execute_result"
    }
   ],
   "source": [
    "#9 Tortuosity index\n",
    "\n",
    "def metric_9_tortuosity_index(inflection_points_gdf,OSM_intersections):\n",
    "\n",
    "    combined_points = pd.concat([inflection_points_gdf, OSM_intersections], ignore_index=True)\n",
    "    combined_points = combined_points.set_geometry('geometry')\n",
    "\n",
    "    # Ensure CRS consistency\n",
    "    combined_points.set_crs(roads.crs, inplace=True)\n",
    "\n",
    "    # Create a graph to determine the order of points\n",
    "    G = nx.Graph()\n",
    "\n",
    "    # Add nodes to the graph for each point in the combined GeoDataFrame\n",
    "    for idx, point in combined_points.iterrows():\n",
    "        G.add_node(idx, geometry=point.geometry)\n",
    "\n",
    "    # Add edges between each pair of points based on proximity along the road network\n",
    "    for i in range(len(combined_points)):\n",
    "        for j in range(i + 1, len(combined_points)):\n",
    "            point_A = combined_points.iloc[i].geometry\n",
    "            point_B = combined_points.iloc[j].geometry\n",
    "\n",
    "            # Find the nearest points on the road network for A and B\n",
    "            nearest_A = nearest_points(roads.unary_union, point_A)[0]\n",
    "            nearest_B = nearest_points(roads.unary_union, point_B)[0]\n",
    "\n",
    "            # Calculate the road network distance\n",
    "            road_network_distance = roads.geometry.length.loc[\n",
    "                roads.intersects(nearest_A.buffer(1e-6)) & roads.intersects(nearest_B.buffer(1e-6))\n",
    "            ].min()\n",
    "\n",
    "            # Handle NaN values\n",
    "            if np.isnan(road_network_distance):\n",
    "                road_network_distance = 1e6  # Arbitrary large number, adjust if necessary\n",
    "\n",
    "            # Add the edge with the distance as weight\n",
    "            G.add_edge(i, j, weight=road_network_distance)\n",
    "\n",
    "    # Find the minimum spanning tree to order the points\n",
    "    mst = nx.minimum_spanning_tree(G)\n",
    "\n",
    "    # Get the ordered points by traversing the minimum spanning tree\n",
    "    ordered_indices = list(nx.dfs_preorder_nodes(mst, source=0))  # Starting from the first point\n",
    "    ordered_combined_points = combined_points.iloc[ordered_indices].reset_index(drop=True)\n",
    "\n",
    "    # Initialize lists to store distances\n",
    "    euclidean_distances = []\n",
    "    road_network_distances = []\n",
    "\n",
    "    # Iterate through contiguous points\n",
    "    for i in range(len(ordered_combined_points) - 1):\n",
    "        point_A = ordered_combined_points.iloc[i].geometry\n",
    "        point_B = ordered_combined_points.iloc[i + 1].geometry\n",
    "\n",
    "        # Calculate the straight-line Euclidean distance\n",
    "        euclidean_distance = point_A.distance(point_B)\n",
    "        euclidean_distances.append(euclidean_distance)\n",
    "\n",
    "        # Find the nearest points on the road network for A and B\n",
    "        nearest_A = nearest_points(roads.unary_union, point_A)[0]\n",
    "        nearest_B = nearest_points(roads.unary_union, point_B)[0]\n",
    "\n",
    "        # Calculate the road network distance\n",
    "        road_network_distance = roads.geometry.length.loc[\n",
    "            roads.intersects(nearest_A.buffer(1e-6)) & roads.intersects(nearest_B.buffer(1e-6))\n",
    "        ].min()\n",
    "\n",
    "        road_network_distances.append(road_network_distance)\n",
    "\n",
    "    # Combine the results into a DataFrame\n",
    "    distance_comparison = pd.DataFrame({\n",
    "        'Point_A': ordered_combined_points.geometry[:-1].reset_index(drop=True),\n",
    "        'Point_B': ordered_combined_points.geometry[1:].reset_index(drop=True),\n",
    "        'Euclidean_Distance': euclidean_distances,\n",
    "        'Road_Network_Distance': road_network_distances\n",
    "    })\n",
    "    return (distance_comparison['Euclidean_Distance']/distance_comparison['Road_Network_Distance']).mean()\n",
    "\n",
    "inflection_points_gdf = get_inflection_points(roads, threshold=20)\n",
    "metric_9_tortuosity_index(inflection_points_gdf,OSM_intersections)"
   ]
  },
  {
   "cell_type": "code",
   "execution_count": 19,
   "metadata": {},
   "outputs": [
    {
     "data": {
      "text/plain": [
       "95.3316544146075"
      ]
     },
     "execution_count": 19,
     "metadata": {},
     "output_type": "execute_result"
    }
   ],
   "source": [
    "#10 Average angle between road segments\n",
    "def metric_10_average_angle_between_road_segments(df_angles,OSM_intersections):\n",
    "    intersection_angles_df = OSM_intersections[['osmid','street_count']].set_index('osmid').merge(df_angles.set_index('Intersection ID'),left_index=True,right_index=True,how='outer')\n",
    "\n",
    "    # In 3-way intersections, include only the smallest angle in the tile average. \n",
    "    df_3_way = intersection_angles_df[(intersection_angles_df.street_count==3)]\n",
    "    to_keep_3 = df_3_way.reset_index().loc[(df_3_way.reset_index().groupby(df_3_way.index)['Angle'].idxmin())].set_index('index')\n",
    "\n",
    "    # In 4-way intersections, include only the two smallest angles in the tile average.\n",
    "    df_4_way = intersection_angles_df[intersection_angles_df.street_count==4]\n",
    "    to_keep_4 = df_4_way.groupby(df_4_way.index).apply(lambda x: x.nsmallest(2, 'Angle')).reset_index().set_index('level_0')\n",
    "    to_keep_4.index.names = ['index']\n",
    "\n",
    "    return pd.concat([to_keep_3,to_keep_4])['Angle'].mean()\n",
    "    \n",
    "df_angles = calculate_sequential_angles(OSM_intersections, OSM_roads)\n",
    "metric_10_average_angle_between_road_segments(df_angles= df_angles, OSM_intersections= OSM_intersections)"
   ]
  },
  {
   "cell_type": "code",
   "execution_count": 20,
   "metadata": {},
   "outputs": [
    {
     "data": {
      "image/png": "[encoded data removed]",
      "text/plain": [
       "<Figure size 1000x1000 with 1 Axes>"
      ]
     },
     "metadata": {},
     "output_type": "display_data"
    }
   ],
   "source": [
    "# SOME DRAWINGS\n",
    "\n",
    "inflection_points_gdf = get_inflection_points(roads, threshold=20)\n",
    "inflection_points_gdf = inflection_points_gdf.set_crs(utm_proj_rectangle)\n",
    "\n",
    "# Plotting\n",
    "ax = roads.plot(figsize=(10, 10), color='blue', linewidth=1)\n",
    "OSM_intersections.to_crs(utm_proj_rectangle).plot(ax=ax, color='black', markersize=20)\n",
    "inflection_points_gdf.plot(ax=ax, color='red', markersize=15)\n",
    "\n",
    "# Optional: Show plot\n",
    "plt.show()"
   ]
  },
  {
   "cell_type": "code",
   "execution_count": 21,
   "metadata": {},
   "outputs": [
    {
     "data": {
      "image/png": "[encoded data removed]",
      "text/plain": [
       "<Figure size 640x480 with 1 Axes>"
      ]
     },
     "metadata": {},
     "output_type": "display_data"
    }
   ],
   "source": [
    "def draw_optimal_circle(block,optimal_point,max_radius):\n",
    "    circle = optimal_point.buffer(max_radius)\n",
    "\n",
    "    # Plot the block polygon\n",
    "    fig, ax = plt.subplots()\n",
    "    x, y = block.geometry.exterior.xy\n",
    "    ax.fill(x, y, alpha=0.5, fc='lightblue', ec='blue')  # Draw the polygon\n",
    "\n",
    "    # Plot the circle\n",
    "    x, y = circle.exterior.xy\n",
    "    ax.plot(x, y, color='red', linewidth=2)  # Draw the circle\n",
    "\n",
    "    # Plot the optimal point (center of the circle)\n",
    "    ax.plot(optimal_point.x, optimal_point.y, 'ro')  # Red point for the center\n",
    "\n",
    "    # Set limits and show the plot\n",
    "    #ax.set_xlim(-1, 5)\n",
    "    #ax.set_ylim(-1, 4)\n",
    "    plt.gca().set_aspect('equal', adjustable='box')\n",
    "    plt.show()\n",
    "\n",
    "optimal_point,max_radius = get_largest_inscribed_circle(blocks.iloc[0])\n",
    "draw_optimal_circle(blocks.iloc[0],optimal_point,max_radius)"
   ]
  }
 ],
 "metadata": {
  "kernelspec": {
   "display_name": "subdivisions",
   "language": "python",
   "name": "python3"
  },
  "language_info": {
   "codemirror_mode": {
    "name": "ipython",
    "version": 3
   },
   "file_extension": ".py",
   "mimetype": "text/x-python",
   "name": "python",
   "nbconvert_exporter": "python",
   "pygments_lexer": "ipython3",
   "version": "3.12.4"
  }
 },
 "nbformat": 4,
 "nbformat_minor": 2
}
